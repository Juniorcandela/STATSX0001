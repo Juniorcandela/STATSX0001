{
 "cells": [
  {
   "cell_type": "code",
   "execution_count": 1,
   "metadata": {},
   "outputs": [],
   "source": [
    "import numpy as np\n",
    "import pandas as pd\n",
    "import matplotlib.pyplot as plt\n",
    "import seaborn as sns\n",
    "\n",
    "from sklearn.preprocessing import StandardScaler, MinMaxScaler, LabelEncoder\n",
    "from sklearn.model_selection import train_test_split, cross_val_score\n",
    "from sklearn.metrics import mean_squared_error, mean_absolute_error\n",
    "\n",
    "%matplotlib inline\n",
    "\n",
    "import xgboost as xgb\n",
    "from xgboost import XGBRegressor, plot_importance\n",
    "\n",
    "seed = np.random.seed(0)"
   ]
  },
  {
   "cell_type": "code",
   "execution_count": 2,
   "metadata": {},
   "outputs": [],
   "source": [
    "df = pd.read_csv(\"Income2.csv\")"
   ]
  },
  {
   "cell_type": "code",
   "execution_count": 3,
   "metadata": {},
   "outputs": [
    {
     "data": {
      "text/html": [
       "<div>\n",
       "<style scoped>\n",
       "    .dataframe tbody tr th:only-of-type {\n",
       "        vertical-align: middle;\n",
       "    }\n",
       "\n",
       "    .dataframe tbody tr th {\n",
       "        vertical-align: top;\n",
       "    }\n",
       "\n",
       "    .dataframe thead th {\n",
       "        text-align: right;\n",
       "    }\n",
       "</style>\n",
       "<table border=\"1\" class=\"dataframe\">\n",
       "  <thead>\n",
       "    <tr style=\"text-align: right;\">\n",
       "      <th></th>\n",
       "      <th>Education</th>\n",
       "      <th>Seniority</th>\n",
       "      <th>Income</th>\n",
       "    </tr>\n",
       "  </thead>\n",
       "  <tbody>\n",
       "    <tr>\n",
       "      <th>0</th>\n",
       "      <td>21.586207</td>\n",
       "      <td>113.103448</td>\n",
       "      <td>99.917173</td>\n",
       "    </tr>\n",
       "    <tr>\n",
       "      <th>1</th>\n",
       "      <td>18.275862</td>\n",
       "      <td>119.310345</td>\n",
       "      <td>92.579135</td>\n",
       "    </tr>\n",
       "    <tr>\n",
       "      <th>2</th>\n",
       "      <td>12.068966</td>\n",
       "      <td>100.689655</td>\n",
       "      <td>34.678727</td>\n",
       "    </tr>\n",
       "    <tr>\n",
       "      <th>3</th>\n",
       "      <td>17.034483</td>\n",
       "      <td>187.586207</td>\n",
       "      <td>78.702806</td>\n",
       "    </tr>\n",
       "    <tr>\n",
       "      <th>4</th>\n",
       "      <td>19.931034</td>\n",
       "      <td>20.000000</td>\n",
       "      <td>68.009922</td>\n",
       "    </tr>\n",
       "    <tr>\n",
       "      <th>5</th>\n",
       "      <td>18.275862</td>\n",
       "      <td>26.206897</td>\n",
       "      <td>71.504485</td>\n",
       "    </tr>\n",
       "    <tr>\n",
       "      <th>6</th>\n",
       "      <td>19.931034</td>\n",
       "      <td>150.344828</td>\n",
       "      <td>87.970467</td>\n",
       "    </tr>\n",
       "    <tr>\n",
       "      <th>7</th>\n",
       "      <td>21.172414</td>\n",
       "      <td>82.068966</td>\n",
       "      <td>79.811030</td>\n",
       "    </tr>\n",
       "    <tr>\n",
       "      <th>8</th>\n",
       "      <td>20.344828</td>\n",
       "      <td>88.275862</td>\n",
       "      <td>90.006327</td>\n",
       "    </tr>\n",
       "    <tr>\n",
       "      <th>9</th>\n",
       "      <td>10.000000</td>\n",
       "      <td>113.103448</td>\n",
       "      <td>45.655530</td>\n",
       "    </tr>\n",
       "    <tr>\n",
       "      <th>10</th>\n",
       "      <td>13.724138</td>\n",
       "      <td>51.034483</td>\n",
       "      <td>31.913808</td>\n",
       "    </tr>\n",
       "    <tr>\n",
       "      <th>11</th>\n",
       "      <td>18.689655</td>\n",
       "      <td>144.137931</td>\n",
       "      <td>96.282997</td>\n",
       "    </tr>\n",
       "    <tr>\n",
       "      <th>12</th>\n",
       "      <td>11.655172</td>\n",
       "      <td>20.000000</td>\n",
       "      <td>27.982505</td>\n",
       "    </tr>\n",
       "    <tr>\n",
       "      <th>13</th>\n",
       "      <td>16.620690</td>\n",
       "      <td>94.482759</td>\n",
       "      <td>66.601792</td>\n",
       "    </tr>\n",
       "    <tr>\n",
       "      <th>14</th>\n",
       "      <td>10.000000</td>\n",
       "      <td>187.586207</td>\n",
       "      <td>41.531992</td>\n",
       "    </tr>\n",
       "    <tr>\n",
       "      <th>15</th>\n",
       "      <td>20.344828</td>\n",
       "      <td>94.482759</td>\n",
       "      <td>89.000701</td>\n",
       "    </tr>\n",
       "    <tr>\n",
       "      <th>16</th>\n",
       "      <td>14.137931</td>\n",
       "      <td>20.000000</td>\n",
       "      <td>28.816301</td>\n",
       "    </tr>\n",
       "    <tr>\n",
       "      <th>17</th>\n",
       "      <td>16.620690</td>\n",
       "      <td>44.827586</td>\n",
       "      <td>57.681694</td>\n",
       "    </tr>\n",
       "    <tr>\n",
       "      <th>18</th>\n",
       "      <td>16.620690</td>\n",
       "      <td>175.172414</td>\n",
       "      <td>70.105096</td>\n",
       "    </tr>\n",
       "    <tr>\n",
       "      <th>19</th>\n",
       "      <td>20.344828</td>\n",
       "      <td>187.586207</td>\n",
       "      <td>98.834012</td>\n",
       "    </tr>\n",
       "    <tr>\n",
       "      <th>20</th>\n",
       "      <td>18.275862</td>\n",
       "      <td>100.689655</td>\n",
       "      <td>74.704699</td>\n",
       "    </tr>\n",
       "    <tr>\n",
       "      <th>21</th>\n",
       "      <td>14.551724</td>\n",
       "      <td>137.931035</td>\n",
       "      <td>53.532106</td>\n",
       "    </tr>\n",
       "    <tr>\n",
       "      <th>22</th>\n",
       "      <td>17.448276</td>\n",
       "      <td>94.482759</td>\n",
       "      <td>72.078924</td>\n",
       "    </tr>\n",
       "    <tr>\n",
       "      <th>23</th>\n",
       "      <td>10.413793</td>\n",
       "      <td>32.413793</td>\n",
       "      <td>18.570665</td>\n",
       "    </tr>\n",
       "    <tr>\n",
       "      <th>24</th>\n",
       "      <td>21.586207</td>\n",
       "      <td>20.000000</td>\n",
       "      <td>78.805784</td>\n",
       "    </tr>\n",
       "    <tr>\n",
       "      <th>25</th>\n",
       "      <td>11.241379</td>\n",
       "      <td>44.827586</td>\n",
       "      <td>21.388561</td>\n",
       "    </tr>\n",
       "    <tr>\n",
       "      <th>26</th>\n",
       "      <td>19.931034</td>\n",
       "      <td>168.965517</td>\n",
       "      <td>90.814035</td>\n",
       "    </tr>\n",
       "    <tr>\n",
       "      <th>27</th>\n",
       "      <td>11.655172</td>\n",
       "      <td>57.241379</td>\n",
       "      <td>22.636163</td>\n",
       "    </tr>\n",
       "    <tr>\n",
       "      <th>28</th>\n",
       "      <td>12.068966</td>\n",
       "      <td>32.413793</td>\n",
       "      <td>17.613593</td>\n",
       "    </tr>\n",
       "    <tr>\n",
       "      <th>29</th>\n",
       "      <td>17.034483</td>\n",
       "      <td>106.896552</td>\n",
       "      <td>74.610960</td>\n",
       "    </tr>\n",
       "  </tbody>\n",
       "</table>\n",
       "</div>"
      ],
      "text/plain": [
       "    Education   Seniority     Income\n",
       "0   21.586207  113.103448  99.917173\n",
       "1   18.275862  119.310345  92.579135\n",
       "2   12.068966  100.689655  34.678727\n",
       "3   17.034483  187.586207  78.702806\n",
       "4   19.931034   20.000000  68.009922\n",
       "5   18.275862   26.206897  71.504485\n",
       "6   19.931034  150.344828  87.970467\n",
       "7   21.172414   82.068966  79.811030\n",
       "8   20.344828   88.275862  90.006327\n",
       "9   10.000000  113.103448  45.655530\n",
       "10  13.724138   51.034483  31.913808\n",
       "11  18.689655  144.137931  96.282997\n",
       "12  11.655172   20.000000  27.982505\n",
       "13  16.620690   94.482759  66.601792\n",
       "14  10.000000  187.586207  41.531992\n",
       "15  20.344828   94.482759  89.000701\n",
       "16  14.137931   20.000000  28.816301\n",
       "17  16.620690   44.827586  57.681694\n",
       "18  16.620690  175.172414  70.105096\n",
       "19  20.344828  187.586207  98.834012\n",
       "20  18.275862  100.689655  74.704699\n",
       "21  14.551724  137.931035  53.532106\n",
       "22  17.448276   94.482759  72.078924\n",
       "23  10.413793   32.413793  18.570665\n",
       "24  21.586207   20.000000  78.805784\n",
       "25  11.241379   44.827586  21.388561\n",
       "26  19.931034  168.965517  90.814035\n",
       "27  11.655172   57.241379  22.636163\n",
       "28  12.068966   32.413793  17.613593\n",
       "29  17.034483  106.896552  74.610960"
      ]
     },
     "execution_count": 3,
     "metadata": {},
     "output_type": "execute_result"
    }
   ],
   "source": [
    "df"
   ]
  },
  {
   "cell_type": "code",
   "execution_count": 4,
   "metadata": {},
   "outputs": [
    {
     "name": "stdout",
     "output_type": "stream",
     "text": [
      "<class 'pandas.core.frame.DataFrame'>\n",
      "RangeIndex: 30 entries, 0 to 29\n",
      "Data columns (total 3 columns):\n",
      " #   Column     Non-Null Count  Dtype  \n",
      "---  ------     --------------  -----  \n",
      " 0   Education  30 non-null     float64\n",
      " 1   Seniority  30 non-null     float64\n",
      " 2   Income     30 non-null     float64\n",
      "dtypes: float64(3)\n",
      "memory usage: 848.0 bytes\n"
     ]
    }
   ],
   "source": [
    "df.info()"
   ]
  },
  {
   "cell_type": "code",
   "execution_count": 5,
   "metadata": {},
   "outputs": [
    {
     "data": {
      "text/plain": [
       "(30, 3)"
      ]
     },
     "execution_count": 5,
     "metadata": {},
     "output_type": "execute_result"
    }
   ],
   "source": [
    "df.shape"
   ]
  },
  {
   "cell_type": "code",
   "execution_count": 6,
   "metadata": {},
   "outputs": [
    {
     "data": {
      "text/html": [
       "<div>\n",
       "<style scoped>\n",
       "    .dataframe tbody tr th:only-of-type {\n",
       "        vertical-align: middle;\n",
       "    }\n",
       "\n",
       "    .dataframe tbody tr th {\n",
       "        vertical-align: top;\n",
       "    }\n",
       "\n",
       "    .dataframe thead th {\n",
       "        text-align: right;\n",
       "    }\n",
       "</style>\n",
       "<table border=\"1\" class=\"dataframe\">\n",
       "  <thead>\n",
       "    <tr style=\"text-align: right;\">\n",
       "      <th></th>\n",
       "      <th>Education</th>\n",
       "      <th>Seniority</th>\n",
       "      <th>Income</th>\n",
       "    </tr>\n",
       "  </thead>\n",
       "  <tbody>\n",
       "    <tr>\n",
       "      <th>count</th>\n",
       "      <td>30.000000</td>\n",
       "      <td>30.000000</td>\n",
       "      <td>30.000000</td>\n",
       "    </tr>\n",
       "    <tr>\n",
       "      <th>mean</th>\n",
       "      <td>16.386207</td>\n",
       "      <td>93.862069</td>\n",
       "      <td>62.744733</td>\n",
       "    </tr>\n",
       "    <tr>\n",
       "      <th>std</th>\n",
       "      <td>3.810622</td>\n",
       "      <td>55.715623</td>\n",
       "      <td>27.013285</td>\n",
       "    </tr>\n",
       "    <tr>\n",
       "      <th>min</th>\n",
       "      <td>10.000000</td>\n",
       "      <td>20.000000</td>\n",
       "      <td>17.613593</td>\n",
       "    </tr>\n",
       "    <tr>\n",
       "      <th>25%</th>\n",
       "      <td>12.482759</td>\n",
       "      <td>44.827586</td>\n",
       "      <td>36.392043</td>\n",
       "    </tr>\n",
       "    <tr>\n",
       "      <th>50%</th>\n",
       "      <td>17.034483</td>\n",
       "      <td>94.482759</td>\n",
       "      <td>70.804791</td>\n",
       "    </tr>\n",
       "    <tr>\n",
       "      <th>75%</th>\n",
       "      <td>19.931034</td>\n",
       "      <td>133.275862</td>\n",
       "      <td>85.930608</td>\n",
       "    </tr>\n",
       "    <tr>\n",
       "      <th>max</th>\n",
       "      <td>21.586207</td>\n",
       "      <td>187.586207</td>\n",
       "      <td>99.917173</td>\n",
       "    </tr>\n",
       "  </tbody>\n",
       "</table>\n",
       "</div>"
      ],
      "text/plain": [
       "       Education   Seniority     Income\n",
       "count  30.000000   30.000000  30.000000\n",
       "mean   16.386207   93.862069  62.744733\n",
       "std     3.810622   55.715623  27.013285\n",
       "min    10.000000   20.000000  17.613593\n",
       "25%    12.482759   44.827586  36.392043\n",
       "50%    17.034483   94.482759  70.804791\n",
       "75%    19.931034  133.275862  85.930608\n",
       "max    21.586207  187.586207  99.917173"
      ]
     },
     "execution_count": 6,
     "metadata": {},
     "output_type": "execute_result"
    }
   ],
   "source": [
    "df.describe()"
   ]
  },
  {
   "cell_type": "code",
   "execution_count": 7,
   "metadata": {},
   "outputs": [
    {
     "data": {
      "image/png": "[encoded data removed]",
      "text/plain": [
       "<Figure size 540x540 with 12 Axes>"
      ]
     },
     "metadata": {
      "needs_background": "light"
     },
     "output_type": "display_data"
    }
   ],
   "source": [
    "sns.pairplot(df)\n",
    "plt.show()"
   ]
  },
  {
   "cell_type": "code",
   "execution_count": 8,
   "metadata": {},
   "outputs": [
    {
     "data": {
      "text/html": [
       "<div>\n",
       "<style scoped>\n",
       "    .dataframe tbody tr th:only-of-type {\n",
       "        vertical-align: middle;\n",
       "    }\n",
       "\n",
       "    .dataframe tbody tr th {\n",
       "        vertical-align: top;\n",
       "    }\n",
       "\n",
       "    .dataframe thead th {\n",
       "        text-align: right;\n",
       "    }\n",
       "</style>\n",
       "<table border=\"1\" class=\"dataframe\">\n",
       "  <thead>\n",
       "    <tr style=\"text-align: right;\">\n",
       "      <th></th>\n",
       "      <th>Education</th>\n",
       "      <th>Seniority</th>\n",
       "      <th>Income</th>\n",
       "    </tr>\n",
       "  </thead>\n",
       "  <tbody>\n",
       "    <tr>\n",
       "      <th>Education</th>\n",
       "      <td>1.000000</td>\n",
       "      <td>0.194515</td>\n",
       "      <td>0.901003</td>\n",
       "    </tr>\n",
       "    <tr>\n",
       "      <th>Seniority</th>\n",
       "      <td>0.194515</td>\n",
       "      <td>1.000000</td>\n",
       "      <td>0.518288</td>\n",
       "    </tr>\n",
       "    <tr>\n",
       "      <th>Income</th>\n",
       "      <td>0.901003</td>\n",
       "      <td>0.518288</td>\n",
       "      <td>1.000000</td>\n",
       "    </tr>\n",
       "  </tbody>\n",
       "</table>\n",
       "</div>"
      ],
      "text/plain": [
       "           Education  Seniority    Income\n",
       "Education   1.000000   0.194515  0.901003\n",
       "Seniority   0.194515   1.000000  0.518288\n",
       "Income      0.901003   0.518288  1.000000"
      ]
     },
     "execution_count": 8,
     "metadata": {},
     "output_type": "execute_result"
    }
   ],
   "source": [
    "df.corr()"
   ]
  },
  {
   "cell_type": "code",
   "execution_count": 9,
   "metadata": {},
   "outputs": [
    {
     "data": {
      "image/png": "[encoded data removed]",
      "text/plain": [
       "<Figure size 432x288 with 2 Axes>"
      ]
     },
     "metadata": {
      "needs_background": "light"
     },
     "output_type": "display_data"
    }
   ],
   "source": [
    "sns.heatmap(data=df.corr(), cmap=\"coolwarm\", annot=True, linewidths=2)\n",
    "plt.show()"
   ]
  },
  {
   "cell_type": "code",
   "execution_count": 10,
   "metadata": {},
   "outputs": [],
   "source": [
    "X = df.iloc[:,0:2]\n",
    "y = df.iloc[:,2]"
   ]
  },
  {
   "cell_type": "code",
   "execution_count": 11,
   "metadata": {},
   "outputs": [
    {
     "data": {
      "text/plain": [
       "(array([[ 21.5862069 , 113.1034483 ],\n",
       "        [ 18.27586207, 119.3103448 ],\n",
       "        [ 12.06896552, 100.6896552 ],\n",
       "        [ 17.03448276, 187.5862069 ],\n",
       "        [ 19.93103448,  20.        ],\n",
       "        [ 18.27586207,  26.20689655],\n",
       "        [ 19.93103448, 150.3448276 ],\n",
       "        [ 21.17241379,  82.06896552],\n",
       "        [ 20.34482759,  88.27586207],\n",
       "        [ 10.        , 113.1034483 ],\n",
       "        [ 13.72413793,  51.03448276],\n",
       "        [ 18.68965517, 144.137931  ],\n",
       "        [ 11.65517241,  20.        ],\n",
       "        [ 16.62068966,  94.48275862],\n",
       "        [ 10.        , 187.5862069 ],\n",
       "        [ 20.34482759,  94.48275862],\n",
       "        [ 14.13793103,  20.        ],\n",
       "        [ 16.62068966,  44.82758621],\n",
       "        [ 16.62068966, 175.1724138 ],\n",
       "        [ 20.34482759, 187.5862069 ],\n",
       "        [ 18.27586207, 100.6896552 ],\n",
       "        [ 14.55172414, 137.9310345 ],\n",
       "        [ 17.44827586,  94.48275862],\n",
       "        [ 10.4137931 ,  32.4137931 ],\n",
       "        [ 21.5862069 ,  20.        ],\n",
       "        [ 11.24137931,  44.82758621],\n",
       "        [ 19.93103448, 168.9655172 ],\n",
       "        [ 11.65517241,  57.24137931],\n",
       "        [ 12.06896552,  32.4137931 ],\n",
       "        [ 17.03448276, 106.8965517 ]]),\n",
       " array([99.91717261, 92.57913486, 34.67872715, 78.70280624, 68.00992165,\n",
       "        71.50448538, 87.97046699, 79.81102983, 90.00632711, 45.6555295 ,\n",
       "        31.91380794, 96.2829968 , 27.9825049 , 66.60179242, 41.53199242,\n",
       "        89.00070082, 28.81630076, 57.68169426, 70.10509604, 98.83401154,\n",
       "        74.7046992 , 53.53210563, 72.07892367, 18.57066503, 78.80578429,\n",
       "        21.38856131, 90.81403512, 22.63616262, 17.61359304, 74.6109602 ]))"
      ]
     },
     "execution_count": 11,
     "metadata": {},
     "output_type": "execute_result"
    }
   ],
   "source": [
    "X.values, y.values"
   ]
  },
  {
   "cell_type": "code",
   "execution_count": 12,
   "metadata": {},
   "outputs": [],
   "source": [
    "X_train, X_test, y_train, y_test = train_test_split(X, y, test_size=0.2, random_state=seed)"
   ]
  },
  {
   "cell_type": "code",
   "execution_count": 13,
   "metadata": {},
   "outputs": [],
   "source": [
    "xgbmodel = XGBRegressor(objective='reg:squarederror',seed=seed,n_estimators=200)"
   ]
  },
  {
   "cell_type": "code",
   "execution_count": 14,
   "metadata": {},
   "outputs": [
    {
     "name": "stdout",
     "output_type": "stream",
     "text": [
      "[0]\tvalidation_0-rmse:53.7906\n",
      "Will train until validation_0-rmse hasn't improved in 12 rounds.\n",
      "[1]\tvalidation_0-rmse:48.6588\n",
      "[2]\tvalidation_0-rmse:44.1502\n",
      "[3]\tvalidation_0-rmse:39.9973\n",
      "[4]\tvalidation_0-rmse:36.2451\n",
      "[5]\tvalidation_0-rmse:33.0267\n",
      "[6]\tvalidation_0-rmse:30.0978\n",
      "[7]\tvalidation_0-rmse:27.3528\n",
      "[8]\tvalidation_0-rmse:25.0898\n",
      "[9]\tvalidation_0-rmse:22.9035\n",
      "[10]\tvalidation_0-rmse:21.0653\n",
      "[11]\tvalidation_0-rmse:19.4202\n",
      "[12]\tvalidation_0-rmse:17.9145\n",
      "[13]\tvalidation_0-rmse:16.5718\n",
      "[14]\tvalidation_0-rmse:15.2403\n",
      "[15]\tvalidation_0-rmse:14.1459\n",
      "[16]\tvalidation_0-rmse:13.1729\n",
      "[17]\tvalidation_0-rmse:12.2404\n",
      "[18]\tvalidation_0-rmse:11.3293\n",
      "[19]\tvalidation_0-rmse:10.6542\n",
      "[20]\tvalidation_0-rmse:10.0411\n",
      "[21]\tvalidation_0-rmse:9.53641\n",
      "[22]\tvalidation_0-rmse:8.97515\n",
      "[23]\tvalidation_0-rmse:8.48865\n",
      "[24]\tvalidation_0-rmse:8.07743\n",
      "[25]\tvalidation_0-rmse:7.7645\n",
      "[26]\tvalidation_0-rmse:7.46214\n",
      "[27]\tvalidation_0-rmse:7.29644\n",
      "[28]\tvalidation_0-rmse:7.04195\n",
      "[29]\tvalidation_0-rmse:6.97888\n",
      "[30]\tvalidation_0-rmse:6.78704\n",
      "[31]\tvalidation_0-rmse:6.7045\n",
      "[32]\tvalidation_0-rmse:6.64788\n",
      "[33]\tvalidation_0-rmse:6.50709\n",
      "[34]\tvalidation_0-rmse:6.47149\n",
      "[35]\tvalidation_0-rmse:6.34274\n",
      "[36]\tvalidation_0-rmse:6.24815\n",
      "[37]\tvalidation_0-rmse:6.19895\n",
      "[38]\tvalidation_0-rmse:6.15148\n",
      "[39]\tvalidation_0-rmse:6.10877\n",
      "[40]\tvalidation_0-rmse:6.04479\n",
      "[41]\tvalidation_0-rmse:6.013\n",
      "[42]\tvalidation_0-rmse:5.98267\n",
      "[43]\tvalidation_0-rmse:5.95678\n",
      "[44]\tvalidation_0-rmse:5.92863\n",
      "[45]\tvalidation_0-rmse:5.9245\n",
      "[46]\tvalidation_0-rmse:5.90113\n",
      "[47]\tvalidation_0-rmse:5.85407\n",
      "[48]\tvalidation_0-rmse:5.83535\n",
      "[49]\tvalidation_0-rmse:5.80873\n",
      "[50]\tvalidation_0-rmse:5.79092\n",
      "[51]\tvalidation_0-rmse:5.78458\n",
      "[52]\tvalidation_0-rmse:5.77388\n",
      "[53]\tvalidation_0-rmse:5.73718\n",
      "[54]\tvalidation_0-rmse:5.74284\n",
      "[55]\tvalidation_0-rmse:5.72214\n",
      "[56]\tvalidation_0-rmse:5.72779\n",
      "[57]\tvalidation_0-rmse:5.73297\n",
      "[58]\tvalidation_0-rmse:5.70161\n",
      "[59]\tvalidation_0-rmse:5.69949\n",
      "[60]\tvalidation_0-rmse:5.70404\n",
      "[61]\tvalidation_0-rmse:5.70822\n",
      "[62]\tvalidation_0-rmse:5.69222\n",
      "[63]\tvalidation_0-rmse:5.69659\n",
      "[64]\tvalidation_0-rmse:5.66662\n",
      "[65]\tvalidation_0-rmse:5.67121\n",
      "[66]\tvalidation_0-rmse:5.6583\n",
      "[67]\tvalidation_0-rmse:5.66305\n",
      "[68]\tvalidation_0-rmse:5.63753\n",
      "[69]\tvalidation_0-rmse:5.64245\n",
      "[70]\tvalidation_0-rmse:5.63105\n",
      "[71]\tvalidation_0-rmse:5.63589\n",
      "[72]\tvalidation_0-rmse:5.61676\n",
      "[73]\tvalidation_0-rmse:5.62164\n",
      "[74]\tvalidation_0-rmse:5.61275\n",
      "[75]\tvalidation_0-rmse:5.61682\n",
      "[76]\tvalidation_0-rmse:5.6062\n",
      "[77]\tvalidation_0-rmse:5.59655\n",
      "[78]\tvalidation_0-rmse:5.58735\n",
      "[79]\tvalidation_0-rmse:5.57765\n",
      "[80]\tvalidation_0-rmse:5.57064\n",
      "[81]\tvalidation_0-rmse:5.56567\n",
      "[82]\tvalidation_0-rmse:5.55885\n",
      "[83]\tvalidation_0-rmse:5.55435\n",
      "[84]\tvalidation_0-rmse:5.54656\n",
      "[85]\tvalidation_0-rmse:5.54373\n",
      "[86]\tvalidation_0-rmse:5.55023\n",
      "[87]\tvalidation_0-rmse:5.55551\n",
      "[88]\tvalidation_0-rmse:5.55066\n",
      "[89]\tvalidation_0-rmse:5.54852\n",
      "[90]\tvalidation_0-rmse:5.54768\n",
      "[91]\tvalidation_0-rmse:5.53649\n",
      "[92]\tvalidation_0-rmse:5.53867\n",
      "[93]\tvalidation_0-rmse:5.54468\n",
      "[94]\tvalidation_0-rmse:5.5468\n",
      "[95]\tvalidation_0-rmse:5.54511\n",
      "[96]\tvalidation_0-rmse:5.54504\n",
      "[97]\tvalidation_0-rmse:5.54354\n",
      "[98]\tvalidation_0-rmse:5.54543\n",
      "[99]\tvalidation_0-rmse:5.54576\n",
      "[100]\tvalidation_0-rmse:5.54982\n",
      "[101]\tvalidation_0-rmse:5.55001\n",
      "[102]\tvalidation_0-rmse:5.55504\n",
      "[103]\tvalidation_0-rmse:5.55394\n",
      "Stopping. Best iteration:\n",
      "[91]\tvalidation_0-rmse:5.53649\n",
      "\n"
     ]
    },
    {
     "data": {
      "text/plain": [
       "XGBRegressor(base_score=0.5, booster='gbtree', colsample_bylevel=1,\n",
       "             colsample_bynode=1, colsample_bytree=1, gamma=0,\n",
       "             importance_type='gain', learning_rate=0.1, max_delta_step=0,\n",
       "             max_depth=3, min_child_weight=1, missing=None, n_estimators=200,\n",
       "             n_jobs=1, nthread=None, objective='reg:squarederror',\n",
       "             random_state=0, reg_alpha=0, reg_lambda=1, scale_pos_weight=1,\n",
       "             seed=None, silent=None, subsample=1, verbosity=1)"
      ]
     },
     "execution_count": 14,
     "metadata": {},
     "output_type": "execute_result"
    }
   ],
   "source": [
    "xgbmodel.fit(X_train,y_train,eval_set=[(X_test,y_test)],eval_metric='rmse',early_stopping_rounds=12)"
   ]
  },
  {
   "cell_type": "code",
   "execution_count": 15,
   "metadata": {},
   "outputs": [],
   "source": [
    "y_pred = xgbmodel.predict(X_test)"
   ]
  },
  {
   "cell_type": "code",
   "execution_count": 16,
   "metadata": {},
   "outputs": [
    {
     "data": {
      "text/plain": [
       "array([38.391132, 27.018848, 65.85546 , 27.844576, 88.66754 , 71.062874],\n",
       "      dtype=float32)"
      ]
     },
     "execution_count": 16,
     "metadata": {},
     "output_type": "execute_result"
    }
   ],
   "source": [
    "y_pred"
   ]
  },
  {
   "cell_type": "code",
   "execution_count": 17,
   "metadata": {},
   "outputs": [
    {
     "data": {
      "text/plain": [
       "array([34.67872715, 17.61359304, 66.60179242, 31.91380794, 90.81403512,\n",
       "       78.80578429])"
      ]
     },
     "execution_count": 17,
     "metadata": {},
     "output_type": "execute_result"
    }
   ],
   "source": [
    "np.array(y_test)"
   ]
  },
  {
   "cell_type": "code",
   "execution_count": 18,
   "metadata": {},
   "outputs": [
    {
     "data": {
      "image/png": "[encoded data removed]",
      "text/plain": [
       "<Figure size 720x720 with 1 Axes>"
      ]
     },
     "metadata": {
      "needs_background": "light"
     },
     "output_type": "display_data"
    }
   ],
   "source": [
    "plt.subplots(figsize=(10,10))\n",
    "plt.title(\"Predictions vs Actual Values\")\n",
    "plt.ylabel(\"Prediction Values\")\n",
    "sns.regplot(x=y_test,y=y_pred)\n",
    "plt.show()"
   ]
  },
  {
   "cell_type": "code",
   "execution_count": 19,
   "metadata": {},
   "outputs": [
    {
     "name": "stdout",
     "output_type": "stream",
     "text": [
      "Mean Squared Error is 30.652756363014472\n"
     ]
    }
   ],
   "source": [
    "mse = mean_squared_error(y_test,y_pred)\n",
    "print(\"Mean Squared Error is\",mse)"
   ]
  },
  {
   "cell_type": "code",
   "execution_count": 20,
   "metadata": {},
   "outputs": [
    {
     "name": "stdout",
     "output_type": "stream",
     "text": [
      "Root Mean Squared Error is 5.53649314666012\n"
     ]
    }
   ],
   "source": [
    "rmse = np.sqrt(mse)\n",
    "print(\"Root Mean Squared Error is\",rmse)"
   ]
  },
  {
   "cell_type": "code",
   "execution_count": 21,
   "metadata": {},
   "outputs": [
    {
     "data": {
      "image/png": "[encoded data removed]",
      "text/plain": [
       "<Figure size 720x720 with 1 Axes>"
      ]
     },
     "metadata": {
      "needs_background": "light"
     },
     "output_type": "display_data"
    }
   ],
   "source": [
    "fig, ax = plt.subplots(figsize=(10,10))\n",
    "xgb.plot_importance(xgbmodel, ax=ax)\n",
    "plt.show()"
   ]
  },
  {
   "cell_type": "code",
   "execution_count": 22,
   "metadata": {},
   "outputs": [
    {
     "data": {
      "image/png": "[encoded data removed]",
      "text/plain": [
       "<Figure size 1440x720 with 1 Axes>"
      ]
     },
     "metadata": {
      "needs_background": "light"
     },
     "output_type": "display_data"
    }
   ],
   "source": [
    "fig, ax = plt.subplots(figsize=(20,10))\n",
    "xgb.plot_tree(xgbmodel, ax=ax)\n",
    "plt.show()"
   ]
  },
  {
   "cell_type": "code",
   "execution_count": 23,
   "metadata": {},
   "outputs": [
    {
     "data": {
      "image/svg+xml": [
       "<?xml version=\"1.0\" encoding=\"UTF-8\" standalone=\"no\"?>\r\n",
       "<!DOCTYPE svg PUBLIC \"-//W3C//DTD SVG 1.1//EN\"\r\n",
       " \"http://www.w3.org/Graphics/SVG/1.1/DTD/svg11.dtd\">\r\n",
       "<!-- Generated by graphviz version 2.38.0 (20140413.2041)\r\n",
       " -->\r\n",
       "<!-- Title: %3 Pages: 1 -->\r\n",
       "<svg width=\"300pt\" height=\"131pt\"\r\n",
       " viewBox=\"0.00 0.00 300.14 131.00\" xmlns=\"http://www.w3.org/2000/svg\" xmlns:xlink=\"http://www.w3.org/1999/xlink\">\r\n",
       "<g id=\"graph0\" class=\"graph\" transform=\"scale(1 1) rotate(0) translate(4 127)\">\r\n",
       "<title>%3</title>\r\n",
       "<polygon fill=\"white\" stroke=\"none\" points=\"-4,4 -4,-127 296.138,-127 296.138,4 -4,4\"/>\r\n",
       "<!-- 0 -->\r\n",
       "<g id=\"node1\" class=\"node\"><title>0</title>\r\n",
       "<ellipse fill=\"none\" stroke=\"black\" cx=\"147.844\" cy=\"-105\" rx=\"94.7833\" ry=\"18\"/>\r\n",
       "<text text-anchor=\"middle\" x=\"147.844\" y=\"-101.3\" font-family=\"Times New Roman,serif\" font-size=\"14.00\">Education&lt;14.3448277</text>\r\n",
       "</g>\r\n",
       "<!-- 1 -->\r\n",
       "<g id=\"node2\" class=\"node\"><title>1</title>\r\n",
       "<ellipse fill=\"none\" stroke=\"black\" cx=\"70.8437\" cy=\"-18\" rx=\"70.6878\" ry=\"18\"/>\r\n",
       "<text text-anchor=\"middle\" x=\"70.8437\" y=\"-14.3\" font-family=\"Times New Roman,serif\" font-size=\"14.00\">leaf=2.53852153</text>\r\n",
       "</g>\r\n",
       "<!-- 0&#45;&gt;1 -->\r\n",
       "<g id=\"edge1\" class=\"edge\"><title>0&#45;&gt;1</title>\r\n",
       "<path fill=\"none\" stroke=\"#0000ff\" d=\"M132.631,-87.2067C121.241,-74.6335 105.495,-57.252 92.7502,-43.1825\"/>\r\n",
       "<polygon fill=\"#0000ff\" stroke=\"#0000ff\" points=\"95.3325,-40.8198 86.0248,-35.7584 90.1446,-45.5194 95.3325,-40.8198\"/>\r\n",
       "<text text-anchor=\"middle\" x=\"149.344\" y=\"-57.8\" font-family=\"Times New Roman,serif\" font-size=\"14.00\">yes, missing</text>\r\n",
       "</g>\r\n",
       "<!-- 2 -->\r\n",
       "<g id=\"node3\" class=\"node\"><title>2</title>\r\n",
       "<ellipse fill=\"none\" stroke=\"black\" cx=\"225.844\" cy=\"-18\" rx=\"66.0889\" ry=\"18\"/>\r\n",
       "<text text-anchor=\"middle\" x=\"225.844\" y=\"-14.3\" font-family=\"Times New Roman,serif\" font-size=\"14.00\">leaf=7.4824028</text>\r\n",
       "</g>\r\n",
       "<!-- 0&#45;&gt;2 -->\r\n",
       "<g id=\"edge2\" class=\"edge\"><title>0&#45;&gt;2</title>\r\n",
       "<path fill=\"none\" stroke=\"#ff0000\" d=\"M168.515,-87.3093C174.96,-81.7445 181.925,-75.3412 187.844,-69 195.021,-61.3094 202.186,-52.3135 208.329,-44.0886\"/>\r\n",
       "<polygon fill=\"#ff0000\" stroke=\"#ff0000\" points=\"211.249,-46.0244 214.317,-35.8836 205.595,-41.8977 211.249,-46.0244\"/>\r\n",
       "<text text-anchor=\"middle\" x=\"207.344\" y=\"-57.8\" font-family=\"Times New Roman,serif\" font-size=\"14.00\">no</text>\r\n",
       "</g>\r\n",
       "</g>\r\n",
       "</svg>\r\n"
      ],
      "text/plain": [
       "<graphviz.dot.Digraph at 0x1caebd51548>"
      ]
     },
     "execution_count": 23,
     "metadata": {},
     "output_type": "execute_result"
    }
   ],
   "source": [
    "#fig, ax = plt.subplots(figsize=(20,10))\n",
    "xgb.to_graphviz(xgbmodel)"
   ]
  },
  {
   "cell_type": "code",
   "execution_count": null,
   "metadata": {},
   "outputs": [],
   "source": []
  }
 ],
 "metadata": {
  "kernelspec": {
   "display_name": "Python 3",
   "language": "python",
   "name": "python3"
  },
  "language_info": {
   "codemirror_mode": {
    "name": "ipython",
    "version": 3
   },
   "file_extension": ".py",
   "mimetype": "text/x-python",
   "name": "python",
   "nbconvert_exporter": "python",
   "pygments_lexer": "ipython3",
   "version": "3.7.6"
  }
 },
 "nbformat": 4,
 "nbformat_minor": 4
}
